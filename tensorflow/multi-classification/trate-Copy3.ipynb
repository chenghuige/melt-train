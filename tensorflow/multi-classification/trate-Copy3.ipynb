{
 "cells": [
  {
   "cell_type": "code",
   "execution_count": 1,
   "metadata": {
    "collapsed": false
   },
   "outputs": [
    {
     "name": "stdout",
     "output_type": "stream",
     "text": [
      "tf.verion: 0.7.1\n",
      "trainer finish loading\n",
      "algo finish loading  <class 'algos.cnn.Cnn'>\n",
      "finish building graph\n",
      "new session\n",
      "dnn predictor finish loading\n"
     ]
    }
   ],
   "source": [
    "from __future__ import absolute_import\n",
    "from __future__ import division\n",
    "from __future__ import print_function\n",
    "\n",
    "import sys,os\n",
    "\n",
    "import nowarning\n",
    "#@FIXME must before libtieba..\n",
    "from predictors.cnn_predictor import TextPredictor  \n",
    "import libtieba\n",
    "\n",
    "predictor = TextPredictor('./model')\n",
    "\n",
    "import gezi\n",
    "gezi.ENCODE = 'utf8'\n",
    "from gezi import gprint\n",
    "from gezi import togbk\n",
    "from gezi import toutf8"
   ]
  },
  {
   "cell_type": "code",
   "execution_count": 2,
   "metadata": {
    "collapsed": false
   },
   "outputs": [
    {
     "name": "stdout",
     "output_type": "stream",
     "text": [
      "85358381008\t【开发团队】关于百度 h5 平台申请批复的问题\t本来想着等四月份正式全面开放再来申请这个吧的，没想到已经有人了^,^<br>早上陆续收到了许多申请开通的邮件，开发团队正在处理中，由于现在需要逐个人手添加和人肉回邮件，所以速度会比较慢，灰常抱歉 &gt;_&lt; <br>（才不会被你们发现我十一点半才上班呢哼）<br>目前只要发送邮件到 h5@baidu.com ，提供百度账号和个人简介即可获得试用资格，不过由于人力限制，只能承诺 24 小时之内开通。<br>有任何问题和建议也可以在这里留言哦，开发团队会不定期在贴吧出没解答的，频率视开发进度而定^^。<br><br><br>百度 H5 技术支持团队\n",
      "83644574702\t高一校一院一师一姐一姓一生一\t高一校一院一师一姐一姓一生一活一Q一Q一群号：5234622 有一四一百一师一姐一妹一开一放一的一身一体一等一待一安一抚一群一内一还一有一上一仟一文一件。\n",
      "83644574702\t高校院师姐姓生\t高校院师姐姓生活QQ群号：5234622 有四百师姐妹开放的身体等待安抚群内还有上仟文件。\n"
     ]
    }
   ],
   "source": [
    "lines = open('./posts.txt').read()\n",
    "gprint(lines)"
   ]
  },
  {
   "cell_type": "code",
   "execution_count": 4,
   "metadata": {
    "collapsed": false
   },
   "outputs": [
    {
     "name": "stdout",
     "output_type": "stream",
     "text": [
      "<tpad/>/<tcpad/>/<tcpad/>/<tcpad/>/<tcpad/>/<tcpad/>/<tcpad/>/<tcpad/>/<tcpad/>/<tcpad/>/<tcpad/>/<tcpad/>/<tcpad/>/<tcpad/>/<tcpad/>/<tcpad/>/<tcpad/>/<tcpad/>/<tcpad/>/<tcpad/>/<tcpad/>/<tcpad/>/<tcpad/>/<tcpad/>/<tcpad/>/<tcpad/>/<tcpad/>/<tcpad/>/<tcpad/>/<tcpad/>/<tcpad/>/<tcpad/>/<tcpad/>/<tcpad/>/<tcpad/>/<tcpad/>/<tcpad/>/<tcpad/>/<tcpad/>/<tcpad/>/<tcpad/>/<tcpad/>/<tcpad/>/<tcpad/>/<tcpad/>/<tcpad/>/<tcpad/>/<tcpad/>/<tcpad/>/<tcpad/>/<tcpad/>/<tcpad/>/<tcpad/>/<tcpad/>/<tcpad/>/<tcpad/>/<tcpad/>/<tcpad/>/<tcpad/>/<tcpad/>/<tcpad/>/<tcpad/>/<tcpad/>/<tcpad/>/<tcpad/>/<tcpad/>/<tcpad/>/<tcpad/>/<tcpad/>/<tcpad/>/<tcpad/>/<tcpad/>\n",
      "<cpad/>/<cepad/>/<cepad/>/<cepad/>/<cepad/>/<cepad/>/<cepad/>/<cepad/>/<cepad/>/<cepad/>/<cepad/>/<cepad/>/<cepad/>/<cepad/>/<cepad/>/<cepad/>/<cepad/>/<cepad/>/<cepad/>/<cepad/>/<cepad/>/<cepad/>/<cepad/>/<cepad/>/<cepad/>/<cepad/>/<cepad/>/<cepad/>/<cepad/>/<cepad/>/<cepad/>/<cepad/>/<cepad/>/<cepad/>/<cepad/>/<cepad/>/<cepad/>/<cepad/>/<cepad/>/<cepad/>/<cepad/>/<cepad/>/<cepad/>/<cepad/>/<cepad/>/<cepad/>/<cepad/>/<cepad/>/<cepad/>/<cepad/>/<cepad/>/<cepad/>/<cepad/>/<cepad/>/<cepad/>/<cepad/>/<cepad/>/<cepad/>/<cepad/>/<cepad/>/<cepad/>/<cepad/>/<cepad/>/<cepad/>/<cepad/>/<cepad/>/<cepad/>/<cepad/>/<cepad/>/<cepad/>/<cepad/>/<cepad/>/<cepad/>/<cepad/>/<cepad/>/<cepad/>/<cepad/>/<cepad/>/<cepad/>/<cepad/>/<cepad/>/<cepad/>/<cepad/>/<cepad/>/<cepad/>/<cepad/>/<cepad/>/<cepad/>/<cepad/>/<cepad/>/<cepad/>/<cepad/>/<cepad/>/<cepad/>/<cepad/>/<cepad/>/<cepad/>/<cepad/>/<cepad/>/<cepad/>/<cepad/>/<cepad/>\n"
     ]
    },
    {
     "ename": "ValueError",
     "evalue": "Cannot feed value of shape (0,) for Tensor u'X:0', which has shape '(?, 174)'",
     "output_type": "error",
     "traceback": [
      "\u001b[1;31m---------------------------------------------------------------------------\u001b[0m",
      "\u001b[1;31mValueError\u001b[0m                                Traceback (most recent call last)",
      "\u001b[1;32m<ipython-input-4-82475fb9a847>\u001b[0m in \u001b[0;36m<module>\u001b[1;34m()\u001b[0m\n\u001b[0;32m      1\u001b[0m \u001b[0mtitle\u001b[0m \u001b[1;33m=\u001b[0m \u001b[0mtogbk\u001b[0m\u001b[1;33m(\u001b[0m\u001b[1;34m''\u001b[0m\u001b[1;33m)\u001b[0m\u001b[1;33m\u001b[0m\u001b[0m\n\u001b[0;32m      2\u001b[0m \u001b[0mcontent\u001b[0m \u001b[1;33m=\u001b[0m \u001b[0mtogbk\u001b[0m\u001b[1;33m(\u001b[0m\u001b[1;34m''\u001b[0m\u001b[1;33m)\u001b[0m\u001b[1;33m\u001b[0m\u001b[0m\n\u001b[1;32m----> 3\u001b[1;33m \u001b[0madjusted_score\u001b[0m\u001b[1;33m,\u001b[0m \u001b[0mscore\u001b[0m \u001b[1;33m=\u001b[0m \u001b[0mpredictor\u001b[0m\u001b[1;33m.\u001b[0m\u001b[0mpredict\u001b[0m\u001b[1;33m(\u001b[0m\u001b[0mtitle\u001b[0m\u001b[1;33m,\u001b[0m \u001b[0mcontent\u001b[0m\u001b[1;33m)\u001b[0m\u001b[1;33m\u001b[0m\u001b[0m\n\u001b[0m\u001b[0;32m      4\u001b[0m \u001b[1;32mprint\u001b[0m\u001b[1;33m(\u001b[0m\u001b[1;34m'adjusted_score:%f\\tscore:%f\\n'\u001b[0m\u001b[1;33m%\u001b[0m\u001b[1;33m(\u001b[0m\u001b[0madjusted_score\u001b[0m\u001b[1;33m,\u001b[0m \u001b[0mscore\u001b[0m\u001b[1;33m)\u001b[0m\u001b[1;33m)\u001b[0m\u001b[1;33m\u001b[0m\u001b[0m\n",
      "\u001b[1;32m/home/gezi/rsc/app/search/sep/anti-spam/melt-train/tensorflow/binary-classification/predictors/cnn_predictor.pyc\u001b[0m in \u001b[0;36mpredict\u001b[1;34m(self, title, content)\u001b[0m\n\u001b[0;32m     62\u001b[0m         \u001b[1;32mfor\u001b[0m \u001b[0mword\u001b[0m \u001b[1;32min\u001b[0m \u001b[0mcontent_words\u001b[0m\u001b[1;33m:\u001b[0m\u001b[1;33m\u001b[0m\u001b[0m\n\u001b[0;32m     63\u001b[0m             \u001b[0mfe\u001b[0m\u001b[1;33m.\u001b[0m\u001b[0mAdd\u001b[0m\u001b[1;33m(\u001b[0m\u001b[0mfloat\u001b[0m\u001b[1;33m(\u001b[0m\u001b[0mself\u001b[0m\u001b[1;33m.\u001b[0m\u001b[0midentifer\u001b[0m\u001b[1;33m.\u001b[0m\u001b[0mid\u001b[0m\u001b[1;33m(\u001b[0m\u001b[0mword\u001b[0m\u001b[1;33m)\u001b[0m\u001b[1;33m)\u001b[0m\u001b[1;33m)\u001b[0m\u001b[1;33m\u001b[0m\u001b[0m\n\u001b[1;32m---> 64\u001b[1;33m \u001b[1;33m\u001b[0m\u001b[0m\n\u001b[0m\u001b[0;32m     65\u001b[0m         \u001b[1;31m#print(len(fe.values))\u001b[0m\u001b[1;33m\u001b[0m\u001b[1;33m\u001b[0m\u001b[0m\n\u001b[0;32m     66\u001b[0m \u001b[1;33m\u001b[0m\u001b[0m\n",
      "\u001b[1;32m/home/gezi/rsc/app/search/sep/anti-spam/melt-train/tensorflow/binary-classification/binary_classification.py\u001b[0m in \u001b[0;36mPredict\u001b[1;34m(self, feature, index_only)\u001b[0m\n\u001b[0;32m    432\u001b[0m     \u001b[1;32mdef\u001b[0m \u001b[0mPredict\u001b[0m\u001b[1;33m(\u001b[0m\u001b[0mself\u001b[0m\u001b[1;33m,\u001b[0m \u001b[0mfeature\u001b[0m\u001b[1;33m,\u001b[0m \u001b[0mindex_only\u001b[0m \u001b[1;33m=\u001b[0m \u001b[0mFalse\u001b[0m\u001b[1;33m)\u001b[0m\u001b[1;33m:\u001b[0m\u001b[1;33m\u001b[0m\u001b[0m\n\u001b[0;32m    433\u001b[0m         \u001b[1;31m#print self.predict_one(libtrate.Vector('24:0.153846,69:0.115385,342:0.666667,354:0.5,409:0.8,420:0.333333,1090:1,1127:0.333333,1241:1,1296:1,1645:0.333333,2058:0.333333,2217:0.333333,6012:0.5,6613:1,6887:1,7350:0.5,9523:0.25,9681:0.25,11030:1,16785:1,21710:0.5,22304:0.5,24282:1,28173:0.25,32809:1,32825:1,51361:1,52573:0.5,52876:1,54153:1,64670:1,95292:1,96030:1,120200:1,213355:1,228161:1,520301:1,797757:1,1191766:1,1263784:1,1263785:1,1263791:1,1263793:1,1263794:1,1263797:1,1263801:1,1263805:1,1263806:1,1263809:1'))\u001b[0m\u001b[1;33m\u001b[0m\u001b[1;33m\u001b[0m\u001b[0m\n\u001b[1;32m--> 434\u001b[1;33m         \u001b[1;32mreturn\u001b[0m \u001b[0mself\u001b[0m\u001b[1;33m.\u001b[0m\u001b[0mpredict_one\u001b[0m\u001b[1;33m(\u001b[0m\u001b[0mfeature\u001b[0m\u001b[1;33m)\u001b[0m\u001b[1;33m\u001b[0m\u001b[0m\n\u001b[0m\u001b[0;32m    435\u001b[0m \u001b[1;33m\u001b[0m\u001b[0m\n\u001b[0;32m    436\u001b[0m     \u001b[1;32mdef\u001b[0m \u001b[0mLoad\u001b[0m\u001b[1;33m(\u001b[0m\u001b[0mself\u001b[0m\u001b[1;33m,\u001b[0m \u001b[0mmodel_path\u001b[0m\u001b[1;33m)\u001b[0m\u001b[1;33m:\u001b[0m\u001b[1;33m\u001b[0m\u001b[0m\n",
      "\u001b[1;32m/home/gezi/rsc/app/search/sep/anti-spam/melt-train/tensorflow/binary-classification/binary_classification.py\u001b[0m in \u001b[0;36mpredict_one\u001b[1;34m(self, feature)\u001b[0m\n\u001b[0;32m    427\u001b[0m     \u001b[1;32mdef\u001b[0m \u001b[0mpredict_one\u001b[0m\u001b[1;33m(\u001b[0m\u001b[0mself\u001b[0m\u001b[1;33m,\u001b[0m \u001b[0mfeature\u001b[0m\u001b[1;33m)\u001b[0m\u001b[1;33m:\u001b[0m\u001b[1;33m\u001b[0m\u001b[0m\n\u001b[0;32m    428\u001b[0m         \u001b[0mfeature_vecs\u001b[0m \u001b[1;33m=\u001b[0m \u001b[1;33m[\u001b[0m\u001b[0mfeature\u001b[0m\u001b[1;33m]\u001b[0m\u001b[1;33m\u001b[0m\u001b[0m\n\u001b[1;32m--> 429\u001b[1;33m         \u001b[0mscore\u001b[0m \u001b[1;33m=\u001b[0m \u001b[1;33m(\u001b[0m\u001b[0mself\u001b[0m\u001b[1;33m.\u001b[0m\u001b[0mpredict\u001b[0m\u001b[1;33m(\u001b[0m\u001b[0mfeature_vecs\u001b[0m\u001b[1;33m)\u001b[0m\u001b[1;33m)\u001b[0m\u001b[1;33m[\u001b[0m\u001b[1;36m0\u001b[0m\u001b[1;33m]\u001b[0m\u001b[1;33m[\u001b[0m\u001b[1;36m0\u001b[0m\u001b[1;33m]\u001b[0m\u001b[1;33m[\u001b[0m\u001b[1;36m0\u001b[0m\u001b[1;33m]\u001b[0m\u001b[1;33m\u001b[0m\u001b[0m\n\u001b[0m\u001b[0;32m    430\u001b[0m         \u001b[1;32mreturn\u001b[0m \u001b[0mscore\u001b[0m\u001b[1;33m\u001b[0m\u001b[0m\n\u001b[0;32m    431\u001b[0m \u001b[1;33m\u001b[0m\u001b[0m\n",
      "\u001b[1;32m/home/gezi/rsc/app/search/sep/anti-spam/melt-train/tensorflow/binary-classification/binary_classification.py\u001b[0m in \u001b[0;36mpredict\u001b[1;34m(self, feature_vecs)\u001b[0m\n\u001b[0;32m    422\u001b[0m             \u001b[0mtrX\u001b[0m \u001b[1;33m=\u001b[0m \u001b[0mmelt\u001b[0m\u001b[1;33m.\u001b[0m\u001b[0mdense_vectors2features\u001b[0m\u001b[1;33m(\u001b[0m\u001b[0mfeature_vecs\u001b[0m\u001b[1;33m,\u001b[0m \u001b[0mself\u001b[0m\u001b[1;33m.\u001b[0m\u001b[0mtrainer\u001b[0m\u001b[1;33m.\u001b[0m\u001b[0mindex_only\u001b[0m\u001b[1;33m)\u001b[0m\u001b[1;33m\u001b[0m\u001b[0m\n\u001b[0;32m    423\u001b[0m \u001b[1;33m\u001b[0m\u001b[0m\n\u001b[1;32m--> 424\u001b[1;33m         \u001b[0mpredicts\u001b[0m \u001b[1;33m=\u001b[0m \u001b[0mself\u001b[0m\u001b[1;33m.\u001b[0m\u001b[0msession\u001b[0m\u001b[1;33m.\u001b[0m\u001b[0mrun\u001b[0m\u001b[1;33m(\u001b[0m\u001b[1;33m[\u001b[0m\u001b[0mself\u001b[0m\u001b[1;33m.\u001b[0m\u001b[0mpredict_op\u001b[0m\u001b[1;33m]\u001b[0m\u001b[1;33m,\u001b[0m \u001b[0mfeed_dict\u001b[0m\u001b[1;33m=\u001b[0m\u001b[0mmelt\u001b[0m\u001b[1;33m.\u001b[0m\u001b[0mgen_feed_dict\u001b[0m\u001b[1;33m(\u001b[0m\u001b[0mself\u001b[0m\u001b[1;33m.\u001b[0m\u001b[0mtrainer\u001b[0m\u001b[1;33m,\u001b[0m \u001b[0mself\u001b[0m\u001b[1;33m.\u001b[0m\u001b[0malgo\u001b[0m\u001b[1;33m,\u001b[0m \u001b[0mtrX\u001b[0m\u001b[1;33m,\u001b[0m \u001b[0mtest_mode\u001b[0m \u001b[1;33m=\u001b[0m \u001b[0mTrue\u001b[0m\u001b[1;33m)\u001b[0m\u001b[1;33m)\u001b[0m\u001b[1;33m\u001b[0m\u001b[0m\n\u001b[0m\u001b[0;32m    425\u001b[0m         \u001b[1;32mreturn\u001b[0m \u001b[0mpredicts\u001b[0m\u001b[1;33m\u001b[0m\u001b[0m\n\u001b[0;32m    426\u001b[0m \u001b[1;33m\u001b[0m\u001b[0m\n",
      "\u001b[1;32m/usr/lib/python2.7/site-packages/tensorflow/python/client/session.pyc\u001b[0m in \u001b[0;36mrun\u001b[1;34m(self, fetches, feed_dict)\u001b[0m\n\u001b[0;32m    313\u001b[0m         \u001b[1;33m`\u001b[0m\u001b[0mTensor\u001b[0m\u001b[1;33m`\u001b[0m \u001b[0mthat\u001b[0m \u001b[0mdoesn\u001b[0m\u001b[0;31m'\u001b[0m\u001b[0mt\u001b[0m \u001b[0mexist\u001b[0m\u001b[1;33m.\u001b[0m\u001b[1;33m\u001b[0m\u001b[0m\n\u001b[0;32m    314\u001b[0m     \"\"\"\n\u001b[1;32m--> 315\u001b[1;33m     \u001b[1;32mreturn\u001b[0m \u001b[0mself\u001b[0m\u001b[1;33m.\u001b[0m\u001b[0m_run\u001b[0m\u001b[1;33m(\u001b[0m\u001b[0mNone\u001b[0m\u001b[1;33m,\u001b[0m \u001b[0mfetches\u001b[0m\u001b[1;33m,\u001b[0m \u001b[0mfeed_dict\u001b[0m\u001b[1;33m)\u001b[0m\u001b[1;33m\u001b[0m\u001b[0m\n\u001b[0m\u001b[0;32m    316\u001b[0m \u001b[1;33m\u001b[0m\u001b[0m\n\u001b[0;32m    317\u001b[0m   \u001b[1;32mdef\u001b[0m \u001b[0mpartial_run\u001b[0m\u001b[1;33m(\u001b[0m\u001b[0mself\u001b[0m\u001b[1;33m,\u001b[0m \u001b[0mhandle\u001b[0m\u001b[1;33m,\u001b[0m \u001b[0mfetches\u001b[0m\u001b[1;33m,\u001b[0m \u001b[0mfeed_dict\u001b[0m\u001b[1;33m=\u001b[0m\u001b[0mNone\u001b[0m\u001b[1;33m)\u001b[0m\u001b[1;33m:\u001b[0m\u001b[1;33m\u001b[0m\u001b[0m\n",
      "\u001b[1;32m/usr/lib/python2.7/site-packages/tensorflow/python/client/session.pyc\u001b[0m in \u001b[0;36m_run\u001b[1;34m(self, handle, fetches, feed_dict)\u001b[0m\n\u001b[0;32m    504\u001b[0m                   \u001b[1;34m'Cannot feed value of shape %r for Tensor %r, '\u001b[0m\u001b[1;33m\u001b[0m\u001b[0m\n\u001b[0;32m    505\u001b[0m                   \u001b[1;34m'which has shape %r'\u001b[0m\u001b[1;33m\u001b[0m\u001b[0m\n\u001b[1;32m--> 506\u001b[1;33m                   % (np_val.shape, subfeed_t.name, str(subfeed_t.get_shape())))\n\u001b[0m\u001b[0;32m    507\u001b[0m           \u001b[0mfeed_dict_string\u001b[0m\u001b[1;33m[\u001b[0m\u001b[0mcompat\u001b[0m\u001b[1;33m.\u001b[0m\u001b[0mas_bytes\u001b[0m\u001b[1;33m(\u001b[0m\u001b[0msubfeed_t\u001b[0m\u001b[1;33m.\u001b[0m\u001b[0mname\u001b[0m\u001b[1;33m)\u001b[0m\u001b[1;33m]\u001b[0m \u001b[1;33m=\u001b[0m \u001b[0mnp_val\u001b[0m\u001b[1;33m\u001b[0m\u001b[0m\n\u001b[0;32m    508\u001b[0m \u001b[1;33m\u001b[0m\u001b[0m\n",
      "\u001b[1;31mValueError\u001b[0m: Cannot feed value of shape (0,) for Tensor u'X:0', which has shape '(?, 174)'"
     ]
    }
   ],
   "source": [
    "title = togbk('')\n",
    "content = togbk('')\n",
    "adjusted_score, score = predictor.predict(title, content)\n",
    "print('adjusted_score:%f\\tscore:%f\\n'%(adjusted_score, score))"
   ]
  },
  {
   "cell_type": "code",
   "execution_count": 11,
   "metadata": {
    "collapsed": false
   },
   "outputs": [
    {
     "name": "stdout",
     "output_type": "stream",
     "text": [
      "modfied title:鸡巴视频色情扣扣加群加微信性爱 鸡巴视频色情扣扣加群加微信性爱\n",
      "鸡巴/视频/色情/扣/扣/加/群/加/微/信/性爱/ /鸡巴/视频/色情/扣/扣/加/群/加/微/信/性爱\n",
      "modfied content: \n",
      " \n",
      "81:0.333333,84:0.5,87:0.333333,369:0.5,373:0.5,693:0.5,711:1,723:0.333333,729:0.5,1857:0.5,2898:0.5,5568:1,6139:1,12863:0.5,22375:1,31472:1,34052:1,147847:1,317658:0.666667,409589:1,409646:0.5,441202:1,545463:0.666667,2087156:1\n",
      "adjusted_score:0.652679\tscore:0.690953\n",
      "\n"
     ]
    }
   ],
   "source": [
    "title = togbk('鸡巴视频色情扣扣加群加微信性爱')\n",
    "content = togbk('')\n",
    "adjusted_score, score = predictor.predict(title, content)\n",
    "print('adjusted_score:%f\\tscore:%f\\n'%(adjusted_score, score))"
   ]
  },
  {
   "cell_type": "code",
   "execution_count": null,
   "metadata": {
    "collapsed": true
   },
   "outputs": [],
   "source": []
  }
 ],
 "metadata": {
  "kernelspec": {
   "display_name": "Python 2",
   "language": "python",
   "name": "python2"
  },
  "language_info": {
   "codemirror_mode": {
    "name": "ipython",
    "version": 2
   },
   "file_extension": ".py",
   "mimetype": "text/x-python",
   "name": "python",
   "nbconvert_exporter": "python",
   "pygments_lexer": "ipython2",
   "version": "2.7.5"
  }
 },
 "nbformat": 4,
 "nbformat_minor": 0
}
