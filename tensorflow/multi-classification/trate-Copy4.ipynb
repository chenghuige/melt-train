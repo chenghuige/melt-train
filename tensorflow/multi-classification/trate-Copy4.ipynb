{
 "cells": [
  {
   "cell_type": "code",
   "execution_count": 1,
   "metadata": {
    "collapsed": false
   },
   "outputs": [
    {
     "name": "stdout",
     "output_type": "stream",
     "text": [
      "tf.verion: 0.7.1\n",
      "trainer finish loading\n",
      "algo finish loading  <class 'algos.cnn.Cnn'>\n",
      "finish building graph\n",
      "new session\n",
      "dnn predictor finish loading\n"
     ]
    }
   ],
   "source": [
    "from __future__ import absolute_import\n",
    "from __future__ import division\n",
    "from __future__ import print_function\n",
    "\n",
    "import sys,os\n",
    "\n",
    "import nowarning\n",
    "#@FIXME must before libtieba..\n",
    "from predictors.cnn_predictor import TextPredictor  \n",
    "import libtieba\n",
    "\n",
    "predictor = TextPredictor('./model')\n",
    "\n",
    "import gezi\n",
    "gezi.ENCODE = 'utf8'\n",
    "from gezi import gprint\n",
    "from gezi import togbk\n",
    "from gezi import toutf8"
   ]
  },
  {
   "cell_type": "code",
   "execution_count": 2,
   "metadata": {
    "collapsed": false
   },
   "outputs": [
    {
     "name": "stdout",
     "output_type": "stream",
     "text": [
      "85358381008\t【开发团队】关于百度 h5 平台申请批复的问题\t本来想着等四月份正式全面开放再来申请这个吧的，没想到已经有人了^,^<br>早上陆续收到了许多申请开通的邮件，开发团队正在处理中，由于现在需要逐个人手添加和人肉回邮件，所以速度会比较慢，灰常抱歉 &gt;_&lt; <br>（才不会被你们发现我十一点半才上班呢哼）<br>目前只要发送邮件到 h5@baidu.com ，提供百度账号和个人简介即可获得试用资格，不过由于人力限制，只能承诺 24 小时之内开通。<br>有任何问题和建议也可以在这里留言哦，开发团队会不定期在贴吧出没解答的，频率视开发进度而定^^。<br><br><br>百度 H5 技术支持团队\n",
      "83644574702\t高一校一院一师一姐一姓一生一\t高一校一院一师一姐一姓一生一活一Q一Q一群号：5234622 有一四一百一师一姐一妹一开一放一的一身一体一等一待一安一抚一群一内一还一有一上一仟一文一件。\n",
      "83644574702\t高校院师姐姓生\t高校院师姐姓生活QQ群号：5234622 有四百师姐妹开放的身体等待安抚群内还有上仟文件。\n"
     ]
    }
   ],
   "source": [
    "lines = open('./posts.txt').read()\n",
    "gprint(lines)"
   ]
  },
  {
   "cell_type": "code",
   "execution_count": 2,
   "metadata": {
    "collapsed": false
   },
   "outputs": [
    {
     "name": "stdout",
     "output_type": "stream",
     "text": [
      "<tpad/>/<tcpad/>/<tcpad/>/<tcpad/>/<tcpad/>/<tcpad/>/<tcpad/>/<tcpad/>/<tcpad/>/<tcpad/>/<tcpad/>/<tcpad/>/<tcpad/>/<tcpad/>/<tcpad/>/<tcpad/>/<tcpad/>/<tcpad/>/<tcpad/>/<tcpad/>/<tcpad/>/<tcpad/>/<tcpad/>/<tcpad/>/<tcpad/>/<tcpad/>/<tcpad/>/<tcpad/>/<tcpad/>/<tcpad/>/<tcpad/>/<tcpad/>/<tcpad/>/<tcpad/>/<tcpad/>/<tcpad/>/<tcpad/>/<tcpad/>/<tcpad/>/<tcpad/>/<tcpad/>/<tcpad/>/<tcpad/>/<tcpad/>/<tcpad/>/<tcpad/>/<tcpad/>/<tcpad/>/<tcpad/>/<tcpad/>/<tcpad/>/<tcpad/>/<tcpad/>/<tcpad/>/<tcpad/>/<tcpad/>/<tcpad/>/<tcpad/>/<tcpad/>/<tcpad/>/<tcpad/>/<tcpad/>/<tcpad/>/<tcpad/>/<tcpad/>/<tcpad/>/<tcpad/>/<tcpad/>/<tcpad/>/<tcpad/>/<tcpad/>/<tcpad/>\n",
      "<cpad/>/<cepad/>/<cepad/>/<cepad/>/<cepad/>/<cepad/>/<cepad/>/<cepad/>/<cepad/>/<cepad/>/<cepad/>/<cepad/>/<cepad/>/<cepad/>/<cepad/>/<cepad/>/<cepad/>/<cepad/>/<cepad/>/<cepad/>/<cepad/>/<cepad/>/<cepad/>/<cepad/>/<cepad/>/<cepad/>/<cepad/>/<cepad/>/<cepad/>/<cepad/>/<cepad/>/<cepad/>/<cepad/>/<cepad/>/<cepad/>/<cepad/>/<cepad/>/<cepad/>/<cepad/>/<cepad/>/<cepad/>/<cepad/>/<cepad/>/<cepad/>/<cepad/>/<cepad/>/<cepad/>/<cepad/>/<cepad/>/<cepad/>/<cepad/>/<cepad/>/<cepad/>/<cepad/>/<cepad/>/<cepad/>/<cepad/>/<cepad/>/<cepad/>/<cepad/>/<cepad/>/<cepad/>/<cepad/>/<cepad/>/<cepad/>/<cepad/>/<cepad/>/<cepad/>/<cepad/>/<cepad/>/<cepad/>/<cepad/>/<cepad/>/<cepad/>/<cepad/>/<cepad/>/<cepad/>/<cepad/>/<cepad/>/<cepad/>/<cepad/>/<cepad/>/<cepad/>/<cepad/>/<cepad/>/<cepad/>/<cepad/>/<cepad/>/<cepad/>/<cepad/>/<cepad/>/<cepad/>/<cepad/>/<cepad/>/<cepad/>/<cepad/>/<cepad/>/<cepad/>/<cepad/>/<cepad/>/<cepad/>/<cepad/>\n",
      "adjusted_score:0.437994\tscore:0.458981\n",
      "\n"
     ]
    }
   ],
   "source": [
    "title = togbk('')\n",
    "content = togbk('')\n",
    "adjusted_score, score = predictor.predict(title, content)\n",
    "print('adjusted_score:%f\\tscore:%f\\n'%(adjusted_score, score))"
   ]
  },
  {
   "cell_type": "code",
   "execution_count": 3,
   "metadata": {
    "collapsed": false
   },
   "outputs": [
    {
     "name": "stdout",
     "output_type": "stream",
     "text": [
      "鸡巴/视频/色情/扣/扣/加/群/加/微/信/性爱/<tpad/>/鸡巴/视频/色情/扣/扣/加/群/加/微/信/性爱/<tcpad/>/<tcpad/>/<tcpad/>/<tcpad/>/<tcpad/>/<tcpad/>/<tcpad/>/<tcpad/>/<tcpad/>/<tcpad/>/<tcpad/>/<tcpad/>/<tcpad/>/<tcpad/>/<tcpad/>/<tcpad/>/<tcpad/>/<tcpad/>/<tcpad/>/<tcpad/>/<tcpad/>/<tcpad/>/<tcpad/>/<tcpad/>/<tcpad/>/<tcpad/>/<tcpad/>/<tcpad/>/<tcpad/>/<tcpad/>/<tcpad/>/<tcpad/>/<tcpad/>/<tcpad/>/<tcpad/>/<tcpad/>/<tcpad/>/<tcpad/>/<tcpad/>/<tcpad/>/<tcpad/>/<tcpad/>/<tcpad/>/<tcpad/>/<tcpad/>/<tcpad/>/<tcpad/>/<tcpad/>/<tcpad/>\n",
      "<cpad/>/<cepad/>/<cepad/>/<cepad/>/<cepad/>/<cepad/>/<cepad/>/<cepad/>/<cepad/>/<cepad/>/<cepad/>/<cepad/>/<cepad/>/<cepad/>/<cepad/>/<cepad/>/<cepad/>/<cepad/>/<cepad/>/<cepad/>/<cepad/>/<cepad/>/<cepad/>/<cepad/>/<cepad/>/<cepad/>/<cepad/>/<cepad/>/<cepad/>/<cepad/>/<cepad/>/<cepad/>/<cepad/>/<cepad/>/<cepad/>/<cepad/>/<cepad/>/<cepad/>/<cepad/>/<cepad/>/<cepad/>/<cepad/>/<cepad/>/<cepad/>/<cepad/>/<cepad/>/<cepad/>/<cepad/>/<cepad/>/<cepad/>/<cepad/>/<cepad/>/<cepad/>/<cepad/>/<cepad/>/<cepad/>/<cepad/>/<cepad/>/<cepad/>/<cepad/>/<cepad/>/<cepad/>/<cepad/>/<cepad/>/<cepad/>/<cepad/>/<cepad/>/<cepad/>/<cepad/>/<cepad/>/<cepad/>/<cepad/>/<cepad/>/<cepad/>/<cepad/>/<cepad/>/<cepad/>/<cepad/>/<cepad/>/<cepad/>/<cepad/>/<cepad/>/<cepad/>/<cepad/>/<cepad/>/<cepad/>/<cepad/>/<cepad/>/<cepad/>/<cepad/>/<cepad/>/<cepad/>/<cepad/>/<cepad/>/<cepad/>/<cepad/>/<cepad/>/<cepad/>/<cepad/>/<cepad/>/<cepad/>/<cepad/>\n",
      "adjusted_score:0.792250\tscore:0.797246\n",
      "\n"
     ]
    }
   ],
   "source": [
    "title = togbk('鸡巴视频色情扣扣加群加微信性爱')\n",
    "content = togbk('')\n",
    "adjusted_score, score = predictor.predict(title, content)\n",
    "print('adjusted_score:%f\\tscore:%f\\n'%(adjusted_score, score))"
   ]
  },
  {
   "cell_type": "code",
   "execution_count": 4,
   "metadata": {
    "collapsed": false
   },
   "outputs": [
    {
     "name": "stdout",
     "output_type": "stream",
     "text": [
      "【/开发/团队/】/关于/百度/ /h/5/ /平台/申请/批复/的/问题/<tpad/>/开发/团队/关于/百度/h5/平台/申请/批复/的/问题/<tcpad/>/<tcpad/>/<tcpad/>/<tcpad/>/<tcpad/>/<tcpad/>/<tcpad/>/<tcpad/>/<tcpad/>/<tcpad/>/<tcpad/>/<tcpad/>/<tcpad/>/<tcpad/>/<tcpad/>/<tcpad/>/<tcpad/>/<tcpad/>/<tcpad/>/<tcpad/>/<tcpad/>/<tcpad/>/<tcpad/>/<tcpad/>/<tcpad/>/<tcpad/>/<tcpad/>/<tcpad/>/<tcpad/>/<tcpad/>/<tcpad/>/<tcpad/>/<tcpad/>/<tcpad/>/<tcpad/>/<tcpad/>/<tcpad/>/<tcpad/>/<tcpad/>/<tcpad/>/<tcpad/>/<tcpad/>/<tcpad/>/<tcpad/>/<tcpad/>/<tcpad/>\n",
      "本来/想着/等/四/月份/正式/全面/开放/再来/申请/这个/吧/的/，/没/想到/已经/有/人/了/^/,/^/早上/陆续/收/到/了/许多/申请/开通/的/邮件/，/开/<cpad/>/本来/想着/等/四/月份/正式/全面/开放/再来/申请/这个/吧/的/没/想到/已经/有/人/了/早上/陆续/收/到/了/许多/申请/开通/的/邮件/开/<cepad/>/<cepad/>/<cepad/>/<cepad/>/<cepad/>/<cepad/>/<cepad/>/<cepad/>/<cepad/>/<cepad/>/<cepad/>/<cepad/>/<cepad/>/<cepad/>/<cepad/>/<cepad/>/<cepad/>/<cepad/>/<cepad/>/<cepad/>/<cepad/>/<cepad/>/<cepad/>/<cepad/>/<cepad/>/<cepad/>/<cepad/>/<cepad/>/<cepad/>/<cepad/>/<cepad/>/<cepad/>/<cepad/>/<cepad/>/<cepad/>/<cepad/>\n",
      "adjusted_score:0.619541\tscore:0.615966\n",
      "\n"
     ]
    }
   ],
   "source": [
    "title = togbk('【开发团队】关于百度 h5 平台申请批复的问题')\n",
    "content = togbk('本来想着等四月份正式全面开放再来申请这个吧的，没想到已经有人了^,^<br>早上陆续收到了许多申请开通的邮件，开发团队正在处理中，由于现在需要逐个人手添加和人肉回邮件，所以速度会比较慢，灰常抱歉 &gt;_&lt; <br>（才不会被你们发现我十一点半才上班呢哼）<br>目前只要发送邮件到 h5@baidu.com ，提供百度账号和个人简介即可获得试用资格，不过由于人力限制，只能承诺 24 小时之内开通。<br>有任何问题和建议也可以在这里留言哦，开发团队会不定期在贴吧出没解答的，频率视开发进度而定^^。<br><br><br>百度 H5 技术支持团队')\n",
    "adjusted_score, score = predictor.predict(title, content)\n",
    "print('adjusted_score:%f\\tscore:%f\\n'%(adjusted_score, score))"
   ]
  },
  {
   "cell_type": "code",
   "execution_count": 6,
   "metadata": {
    "collapsed": false
   },
   "outputs": [
    {
     "name": "stdout",
     "output_type": "stream",
     "text": [
      "高一/校/一院/一/师/一/姐/一/姓/一生/一/<tpad/>/高一/校/一院/一/师/一/姐/一/姓/一生/一/<tcpad/>/<tcpad/>/<tcpad/>/<tcpad/>/<tcpad/>/<tcpad/>/<tcpad/>/<tcpad/>/<tcpad/>/<tcpad/>/<tcpad/>/<tcpad/>/<tcpad/>/<tcpad/>/<tcpad/>/<tcpad/>/<tcpad/>/<tcpad/>/<tcpad/>/<tcpad/>/<tcpad/>/<tcpad/>/<tcpad/>/<tcpad/>/<tcpad/>/<tcpad/>/<tcpad/>/<tcpad/>/<tcpad/>/<tcpad/>/<tcpad/>/<tcpad/>/<tcpad/>/<tcpad/>/<tcpad/>/<tcpad/>/<tcpad/>/<tcpad/>/<tcpad/>/<tcpad/>/<tcpad/>/<tcpad/>/<tcpad/>/<tcpad/>/<tcpad/>/<tcpad/>/<tcpad/>/<tcpad/>/<tcpad/>\n",
      "高一/校/一院/一/师/一/姐/一/姓/一生/一/活/一/Q/一/Q/一/群/号/：/5234622/ /有/一四一百一/师/一/姐/一/妹/一/开/一/放/一/的/一/身/一体/一/等/一/<cpad/>/高一/校/一院/一/师/一/姐/一/姓/一生/一/活/一/q/一/q/一/群/号/5234622/有/一四一百一/师/一/姐/一/妹/一/开/一/放/一/的/一/身/一体/一/等/一/<cepad/>/<cepad/>/<cepad/>/<cepad/>/<cepad/>/<cepad/>/<cepad/>/<cepad/>/<cepad/>/<cepad/>/<cepad/>/<cepad/>/<cepad/>/<cepad/>/<cepad/>/<cepad/>/<cepad/>/<cepad/>/<cepad/>/<cepad/>/<cepad/>\n"
     ]
    },
    {
     "ename": "InvalidArgumentError",
     "evalue": "Index -1 at offset 92 in Tindices is out of range\n\t [[Node: embedding_lookup = Gather[Tindices=DT_INT32, Tparams=DT_FLOAT, validate_indices=true, _device=\"/job:localhost/replica:0/task:0/cpu:0\"](W/read, _recv_X_0)]]\nCaused by op u'embedding_lookup', defined at:\n  File \"/usr/lib64/python2.7/runpy.py\", line 162, in _run_module_as_main\n    \"__main__\", fname, loader, pkg_name)\n  File \"/usr/lib64/python2.7/runpy.py\", line 72, in _run_code\n    exec code in run_globals\n  File \"/usr/lib/python2.7/site-packages/ipykernel/__main__.py\", line 3, in <module>\n    app.launch_new_instance()\n  File \"/usr/lib/python2.7/site-packages/traitlets/config/application.py\", line 589, in launch_instance\n    app.start()\n  File \"/usr/lib/python2.7/site-packages/ipykernel/kernelapp.py\", line 442, in start\n    ioloop.IOLoop.instance().start()\n  File \"/usr/lib64/python2.7/site-packages/zmq/eventloop/ioloop.py\", line 151, in start\n    super(ZMQIOLoop, self).start()\n  File \"/usr/lib64/python2.7/site-packages/tornado/ioloop.py\", line 883, in start\n    handler_func(fd_obj, events)\n  File \"/usr/lib64/python2.7/site-packages/tornado/stack_context.py\", line 275, in null_wrapper\n    return fn(*args, **kwargs)\n  File \"/usr/lib64/python2.7/site-packages/zmq/eventloop/zmqstream.py\", line 433, in _handle_events\n    self._handle_recv()\n  File \"/usr/lib64/python2.7/site-packages/zmq/eventloop/zmqstream.py\", line 465, in _handle_recv\n    self._run_callback(callback, msg)\n  File \"/usr/lib64/python2.7/site-packages/zmq/eventloop/zmqstream.py\", line 407, in _run_callback\n    callback(*args, **kwargs)\n  File \"/usr/lib64/python2.7/site-packages/tornado/stack_context.py\", line 275, in null_wrapper\n    return fn(*args, **kwargs)\n  File \"/usr/lib/python2.7/site-packages/ipykernel/kernelbase.py\", line 276, in dispatcher\n    return self.dispatch_shell(stream, msg)\n  File \"/usr/lib/python2.7/site-packages/ipykernel/kernelbase.py\", line 228, in dispatch_shell\n    handler(stream, idents, msg)\n  File \"/usr/lib/python2.7/site-packages/ipykernel/kernelbase.py\", line 391, in execute_request\n    user_expressions, allow_stdin)\n  File \"/usr/lib/python2.7/site-packages/ipykernel/ipkernel.py\", line 199, in do_execute\n    shell.run_cell(code, store_history=store_history, silent=silent)\n  File \"/usr/lib/python2.7/site-packages/IPython/core/interactiveshell.py\", line 2723, in run_cell\n    interactivity=interactivity, compiler=compiler, result=result)\n  File \"/usr/lib/python2.7/site-packages/IPython/core/interactiveshell.py\", line 2825, in run_ast_nodes\n    if self.run_code(code, result):\n  File \"/usr/lib/python2.7/site-packages/IPython/core/interactiveshell.py\", line 2885, in run_code\n    exec(code_obj, self.user_global_ns, self.user_ns)\n  File \"<ipython-input-1-312a594ea4c0>\", line 12, in <module>\n    predictor = TextPredictor('./model')\n  File \"predictors/cnn_predictor.py\", line 43, in __init__\n    self.predictor.load(model_path)\n  File \"binary_classification.py\", line 396, in load\n    self.build_graph(self.algo, self.trainer)\n  File \"binary_classification.py\", line 156, in build_graph\n    py_x = algo.forward(trainer)\n  File \"algos/cnn.py\", line 73, in forward\n    embedded_chars = tf.nn.embedding_lookup(W, trainer.X)\n  File \"/usr/lib/python2.7/site-packages/tensorflow/python/ops/embedding_ops.py\", line 86, in embedding_lookup\n    validate_indices=validate_indices)\n  File \"/usr/lib/python2.7/site-packages/tensorflow/python/ops/gen_array_ops.py\", line 423, in gather\n    validate_indices=validate_indices, name=name)\n  File \"/usr/lib/python2.7/site-packages/tensorflow/python/ops/op_def_library.py\", line 655, in apply_op\n    op_def=op_def)\n  File \"/usr/lib/python2.7/site-packages/tensorflow/python/framework/ops.py\", line 2040, in create_op\n    original_op=self._default_original_op, op_def=op_def)\n  File \"/usr/lib/python2.7/site-packages/tensorflow/python/framework/ops.py\", line 1087, in __init__\n    self._traceback = _extract_stack()\n",
     "output_type": "error",
     "traceback": [
      "\u001b[1;31m---------------------------------------------------------------------------\u001b[0m",
      "\u001b[1;31mInvalidArgumentError\u001b[0m                      Traceback (most recent call last)",
      "\u001b[1;32m<ipython-input-6-68c89ba6edd7>\u001b[0m in \u001b[0;36m<module>\u001b[1;34m()\u001b[0m\n\u001b[0;32m      1\u001b[0m \u001b[0mtitle\u001b[0m \u001b[1;33m=\u001b[0m \u001b[0mtogbk\u001b[0m\u001b[1;33m(\u001b[0m\u001b[1;34m'高一校一院一师一姐一姓一生一'\u001b[0m\u001b[1;33m)\u001b[0m\u001b[1;33m\u001b[0m\u001b[0m\n\u001b[0;32m      2\u001b[0m \u001b[0mcontent\u001b[0m \u001b[1;33m=\u001b[0m \u001b[0mtogbk\u001b[0m\u001b[1;33m(\u001b[0m\u001b[1;34m'高一校一院一师一姐一姓一生一活一Q一Q一群号：5234622 有一四一百一师一姐一妹一开一放一的一身一体一等一待一安一抚一群一内一还一有一上一仟一文一件。'\u001b[0m\u001b[1;33m)\u001b[0m\u001b[1;33m\u001b[0m\u001b[0m\n\u001b[1;32m----> 3\u001b[1;33m \u001b[0madjusted_score\u001b[0m\u001b[1;33m,\u001b[0m \u001b[0mscore\u001b[0m \u001b[1;33m=\u001b[0m \u001b[0mpredictor\u001b[0m\u001b[1;33m.\u001b[0m\u001b[0mpredict\u001b[0m\u001b[1;33m(\u001b[0m\u001b[0mtitle\u001b[0m\u001b[1;33m,\u001b[0m \u001b[0mcontent\u001b[0m\u001b[1;33m)\u001b[0m\u001b[1;33m\u001b[0m\u001b[0m\n\u001b[0m\u001b[0;32m      4\u001b[0m \u001b[1;32mprint\u001b[0m\u001b[1;33m(\u001b[0m\u001b[1;34m'adjusted_score:%f\\tscore:%f\\n'\u001b[0m\u001b[1;33m%\u001b[0m\u001b[1;33m(\u001b[0m\u001b[0madjusted_score\u001b[0m\u001b[1;33m,\u001b[0m \u001b[0mscore\u001b[0m\u001b[1;33m)\u001b[0m\u001b[1;33m)\u001b[0m\u001b[1;33m\u001b[0m\u001b[0m\n",
      "\u001b[1;32m/home/gezi/rsc/app/search/sep/anti-spam/melt-train/tensorflow/binary-classification/predictors/cnn_predictor.pyc\u001b[0m in \u001b[0;36mpredict\u001b[1;34m(self, title, content)\u001b[0m\n\u001b[0;32m     65\u001b[0m         \u001b[1;31m#print(len(fe.values))\u001b[0m\u001b[1;33m\u001b[0m\u001b[1;33m\u001b[0m\u001b[0m\n\u001b[0;32m     66\u001b[0m \u001b[1;33m\u001b[0m\u001b[0m\n\u001b[1;32m---> 67\u001b[1;33m         \u001b[0mscore\u001b[0m \u001b[1;33m=\u001b[0m \u001b[0mfloat\u001b[0m\u001b[1;33m(\u001b[0m\u001b[0mself\u001b[0m\u001b[1;33m.\u001b[0m\u001b[0mpredictor\u001b[0m\u001b[1;33m.\u001b[0m\u001b[0mPredict\u001b[0m\u001b[1;33m(\u001b[0m\u001b[0mfe\u001b[0m\u001b[1;33m)\u001b[0m\u001b[1;33m)\u001b[0m\u001b[1;33m\u001b[0m\u001b[0m\n\u001b[0m\u001b[0;32m     68\u001b[0m         \u001b[1;31m#print 'score:',score\u001b[0m\u001b[1;33m\u001b[0m\u001b[1;33m\u001b[0m\u001b[0m\n\u001b[0;32m     69\u001b[0m         \u001b[0madjusted_score\u001b[0m \u001b[1;33m=\u001b[0m \u001b[0mself\u001b[0m\u001b[1;33m.\u001b[0m\u001b[0mcalibrator\u001b[0m\u001b[1;33m.\u001b[0m\u001b[0mPredictProbability\u001b[0m\u001b[1;33m(\u001b[0m\u001b[0mscore\u001b[0m\u001b[1;33m)\u001b[0m\u001b[1;33m\u001b[0m\u001b[0m\n",
      "\u001b[1;32m/home/gezi/rsc/app/search/sep/anti-spam/melt-train/tensorflow/binary-classification/binary_classification.pyc\u001b[0m in \u001b[0;36mPredict\u001b[1;34m(self, feature, index_only)\u001b[0m\n\u001b[0;32m    432\u001b[0m     \u001b[1;32mdef\u001b[0m \u001b[0mPredict\u001b[0m\u001b[1;33m(\u001b[0m\u001b[0mself\u001b[0m\u001b[1;33m,\u001b[0m \u001b[0mfeature\u001b[0m\u001b[1;33m,\u001b[0m \u001b[0mindex_only\u001b[0m \u001b[1;33m=\u001b[0m \u001b[0mFalse\u001b[0m\u001b[1;33m)\u001b[0m\u001b[1;33m:\u001b[0m\u001b[1;33m\u001b[0m\u001b[0m\n\u001b[0;32m    433\u001b[0m         \u001b[1;31m#print self.predict_one(libtrate.Vector('24:0.153846,69:0.115385,342:0.666667,354:0.5,409:0.8,420:0.333333,1090:1,1127:0.333333,1241:1,1296:1,1645:0.333333,2058:0.333333,2217:0.333333,6012:0.5,6613:1,6887:1,7350:0.5,9523:0.25,9681:0.25,11030:1,16785:1,21710:0.5,22304:0.5,24282:1,28173:0.25,32809:1,32825:1,51361:1,52573:0.5,52876:1,54153:1,64670:1,95292:1,96030:1,120200:1,213355:1,228161:1,520301:1,797757:1,1191766:1,1263784:1,1263785:1,1263791:1,1263793:1,1263794:1,1263797:1,1263801:1,1263805:1,1263806:1,1263809:1'))\u001b[0m\u001b[1;33m\u001b[0m\u001b[1;33m\u001b[0m\u001b[0m\n\u001b[1;32m--> 434\u001b[1;33m         \u001b[1;32mreturn\u001b[0m \u001b[0mself\u001b[0m\u001b[1;33m.\u001b[0m\u001b[0mpredict_one\u001b[0m\u001b[1;33m(\u001b[0m\u001b[0mfeature\u001b[0m\u001b[1;33m)\u001b[0m\u001b[1;33m\u001b[0m\u001b[0m\n\u001b[0m\u001b[0;32m    435\u001b[0m \u001b[1;33m\u001b[0m\u001b[0m\n\u001b[0;32m    436\u001b[0m     \u001b[1;32mdef\u001b[0m \u001b[0mLoad\u001b[0m\u001b[1;33m(\u001b[0m\u001b[0mself\u001b[0m\u001b[1;33m,\u001b[0m \u001b[0mmodel_path\u001b[0m\u001b[1;33m)\u001b[0m\u001b[1;33m:\u001b[0m\u001b[1;33m\u001b[0m\u001b[0m\n",
      "\u001b[1;32m/home/gezi/rsc/app/search/sep/anti-spam/melt-train/tensorflow/binary-classification/binary_classification.pyc\u001b[0m in \u001b[0;36mpredict_one\u001b[1;34m(self, feature)\u001b[0m\n\u001b[0;32m    427\u001b[0m     \u001b[1;32mdef\u001b[0m \u001b[0mpredict_one\u001b[0m\u001b[1;33m(\u001b[0m\u001b[0mself\u001b[0m\u001b[1;33m,\u001b[0m \u001b[0mfeature\u001b[0m\u001b[1;33m)\u001b[0m\u001b[1;33m:\u001b[0m\u001b[1;33m\u001b[0m\u001b[0m\n\u001b[0;32m    428\u001b[0m         \u001b[0mfeature_vecs\u001b[0m \u001b[1;33m=\u001b[0m \u001b[1;33m[\u001b[0m\u001b[0mfeature\u001b[0m\u001b[1;33m]\u001b[0m\u001b[1;33m\u001b[0m\u001b[0m\n\u001b[1;32m--> 429\u001b[1;33m         \u001b[0mscore\u001b[0m \u001b[1;33m=\u001b[0m \u001b[1;33m(\u001b[0m\u001b[0mself\u001b[0m\u001b[1;33m.\u001b[0m\u001b[0mpredict\u001b[0m\u001b[1;33m(\u001b[0m\u001b[0mfeature_vecs\u001b[0m\u001b[1;33m)\u001b[0m\u001b[1;33m)\u001b[0m\u001b[1;33m[\u001b[0m\u001b[1;36m0\u001b[0m\u001b[1;33m]\u001b[0m\u001b[1;33m[\u001b[0m\u001b[1;36m0\u001b[0m\u001b[1;33m]\u001b[0m\u001b[1;33m[\u001b[0m\u001b[1;36m0\u001b[0m\u001b[1;33m]\u001b[0m\u001b[1;33m\u001b[0m\u001b[0m\n\u001b[0m\u001b[0;32m    430\u001b[0m         \u001b[1;32mreturn\u001b[0m \u001b[0mscore\u001b[0m\u001b[1;33m\u001b[0m\u001b[0m\n\u001b[0;32m    431\u001b[0m \u001b[1;33m\u001b[0m\u001b[0m\n",
      "\u001b[1;32m/home/gezi/rsc/app/search/sep/anti-spam/melt-train/tensorflow/binary-classification/binary_classification.pyc\u001b[0m in \u001b[0;36mpredict\u001b[1;34m(self, feature_vecs)\u001b[0m\n\u001b[0;32m    422\u001b[0m             \u001b[0mtrX\u001b[0m \u001b[1;33m=\u001b[0m \u001b[0mmelt\u001b[0m\u001b[1;33m.\u001b[0m\u001b[0mdense_vectors2features\u001b[0m\u001b[1;33m(\u001b[0m\u001b[0mfeature_vecs\u001b[0m\u001b[1;33m,\u001b[0m \u001b[0mself\u001b[0m\u001b[1;33m.\u001b[0m\u001b[0mtrainer\u001b[0m\u001b[1;33m.\u001b[0m\u001b[0mindex_only\u001b[0m\u001b[1;33m)\u001b[0m\u001b[1;33m\u001b[0m\u001b[0m\n\u001b[0;32m    423\u001b[0m \u001b[1;33m\u001b[0m\u001b[0m\n\u001b[1;32m--> 424\u001b[1;33m         \u001b[0mpredicts\u001b[0m \u001b[1;33m=\u001b[0m \u001b[0mself\u001b[0m\u001b[1;33m.\u001b[0m\u001b[0msession\u001b[0m\u001b[1;33m.\u001b[0m\u001b[0mrun\u001b[0m\u001b[1;33m(\u001b[0m\u001b[1;33m[\u001b[0m\u001b[0mself\u001b[0m\u001b[1;33m.\u001b[0m\u001b[0mpredict_op\u001b[0m\u001b[1;33m]\u001b[0m\u001b[1;33m,\u001b[0m \u001b[0mfeed_dict\u001b[0m\u001b[1;33m=\u001b[0m\u001b[0mmelt\u001b[0m\u001b[1;33m.\u001b[0m\u001b[0mgen_feed_dict\u001b[0m\u001b[1;33m(\u001b[0m\u001b[0mself\u001b[0m\u001b[1;33m.\u001b[0m\u001b[0mtrainer\u001b[0m\u001b[1;33m,\u001b[0m \u001b[0mself\u001b[0m\u001b[1;33m.\u001b[0m\u001b[0malgo\u001b[0m\u001b[1;33m,\u001b[0m \u001b[0mtrX\u001b[0m\u001b[1;33m,\u001b[0m \u001b[0mtest_mode\u001b[0m \u001b[1;33m=\u001b[0m \u001b[0mTrue\u001b[0m\u001b[1;33m)\u001b[0m\u001b[1;33m)\u001b[0m\u001b[1;33m\u001b[0m\u001b[0m\n\u001b[0m\u001b[0;32m    425\u001b[0m         \u001b[1;32mreturn\u001b[0m \u001b[0mpredicts\u001b[0m\u001b[1;33m\u001b[0m\u001b[0m\n\u001b[0;32m    426\u001b[0m \u001b[1;33m\u001b[0m\u001b[0m\n",
      "\u001b[1;32m/usr/lib/python2.7/site-packages/tensorflow/python/client/session.pyc\u001b[0m in \u001b[0;36mrun\u001b[1;34m(self, fetches, feed_dict)\u001b[0m\n\u001b[0;32m    313\u001b[0m         \u001b[1;33m`\u001b[0m\u001b[0mTensor\u001b[0m\u001b[1;33m`\u001b[0m \u001b[0mthat\u001b[0m \u001b[0mdoesn\u001b[0m\u001b[0;31m'\u001b[0m\u001b[0mt\u001b[0m \u001b[0mexist\u001b[0m\u001b[1;33m.\u001b[0m\u001b[1;33m\u001b[0m\u001b[0m\n\u001b[0;32m    314\u001b[0m     \"\"\"\n\u001b[1;32m--> 315\u001b[1;33m     \u001b[1;32mreturn\u001b[0m \u001b[0mself\u001b[0m\u001b[1;33m.\u001b[0m\u001b[0m_run\u001b[0m\u001b[1;33m(\u001b[0m\u001b[0mNone\u001b[0m\u001b[1;33m,\u001b[0m \u001b[0mfetches\u001b[0m\u001b[1;33m,\u001b[0m \u001b[0mfeed_dict\u001b[0m\u001b[1;33m)\u001b[0m\u001b[1;33m\u001b[0m\u001b[0m\n\u001b[0m\u001b[0;32m    316\u001b[0m \u001b[1;33m\u001b[0m\u001b[0m\n\u001b[0;32m    317\u001b[0m   \u001b[1;32mdef\u001b[0m \u001b[0mpartial_run\u001b[0m\u001b[1;33m(\u001b[0m\u001b[0mself\u001b[0m\u001b[1;33m,\u001b[0m \u001b[0mhandle\u001b[0m\u001b[1;33m,\u001b[0m \u001b[0mfetches\u001b[0m\u001b[1;33m,\u001b[0m \u001b[0mfeed_dict\u001b[0m\u001b[1;33m=\u001b[0m\u001b[0mNone\u001b[0m\u001b[1;33m)\u001b[0m\u001b[1;33m:\u001b[0m\u001b[1;33m\u001b[0m\u001b[0m\n",
      "\u001b[1;32m/usr/lib/python2.7/site-packages/tensorflow/python/client/session.pyc\u001b[0m in \u001b[0;36m_run\u001b[1;34m(self, handle, fetches, feed_dict)\u001b[0m\n\u001b[0;32m    509\u001b[0m     \u001b[1;31m# Run request and get response.\u001b[0m\u001b[1;33m\u001b[0m\u001b[1;33m\u001b[0m\u001b[0m\n\u001b[0;32m    510\u001b[0m     results = self._do_run(handle, target_list, unique_fetches,\n\u001b[1;32m--> 511\u001b[1;33m                            feed_dict_string)\n\u001b[0m\u001b[0;32m    512\u001b[0m \u001b[1;33m\u001b[0m\u001b[0m\n\u001b[0;32m    513\u001b[0m     \u001b[1;31m# User may have fetched the same tensor multiple times, but we\u001b[0m\u001b[1;33m\u001b[0m\u001b[1;33m\u001b[0m\u001b[0m\n",
      "\u001b[1;32m/usr/lib/python2.7/site-packages/tensorflow/python/client/session.pyc\u001b[0m in \u001b[0;36m_do_run\u001b[1;34m(self, handle, target_list, fetch_list, feed_dict)\u001b[0m\n\u001b[0;32m    562\u001b[0m     \u001b[1;32mif\u001b[0m \u001b[0mhandle\u001b[0m \u001b[1;32mis\u001b[0m \u001b[0mNone\u001b[0m\u001b[1;33m:\u001b[0m\u001b[1;33m\u001b[0m\u001b[0m\n\u001b[0;32m    563\u001b[0m       return self._do_call(_run_fn, self._session, feed_dict, fetch_list,\n\u001b[1;32m--> 564\u001b[1;33m                            target_list)\n\u001b[0m\u001b[0;32m    565\u001b[0m     \u001b[1;32melse\u001b[0m\u001b[1;33m:\u001b[0m\u001b[1;33m\u001b[0m\u001b[0m\n\u001b[0;32m    566\u001b[0m       return self._do_call(_prun_fn, self._session, handle, feed_dict,\n",
      "\u001b[1;32m/usr/lib/python2.7/site-packages/tensorflow/python/client/session.pyc\u001b[0m in \u001b[0;36m_do_call\u001b[1;34m(self, fn, *args)\u001b[0m\n\u001b[0;32m    584\u001b[0m         \u001b[1;31m# pylint: disable=protected-access\u001b[0m\u001b[1;33m\u001b[0m\u001b[1;33m\u001b[0m\u001b[0m\n\u001b[0;32m    585\u001b[0m         raise errors._make_specific_exception(node_def, op, error_message,\n\u001b[1;32m--> 586\u001b[1;33m                                               e.code)\n\u001b[0m\u001b[0;32m    587\u001b[0m         \u001b[1;31m# pylint: enable=protected-access\u001b[0m\u001b[1;33m\u001b[0m\u001b[1;33m\u001b[0m\u001b[0m\n\u001b[0;32m    588\u001b[0m       \u001b[0msix\u001b[0m\u001b[1;33m.\u001b[0m\u001b[0mreraise\u001b[0m\u001b[1;33m(\u001b[0m\u001b[0me_type\u001b[0m\u001b[1;33m,\u001b[0m \u001b[0me_value\u001b[0m\u001b[1;33m,\u001b[0m \u001b[0me_traceback\u001b[0m\u001b[1;33m)\u001b[0m\u001b[1;33m\u001b[0m\u001b[0m\n",
      "\u001b[1;31mInvalidArgumentError\u001b[0m: Index -1 at offset 92 in Tindices is out of range\n\t [[Node: embedding_lookup = Gather[Tindices=DT_INT32, Tparams=DT_FLOAT, validate_indices=true, _device=\"/job:localhost/replica:0/task:0/cpu:0\"](W/read, _recv_X_0)]]\nCaused by op u'embedding_lookup', defined at:\n  File \"/usr/lib64/python2.7/runpy.py\", line 162, in _run_module_as_main\n    \"__main__\", fname, loader, pkg_name)\n  File \"/usr/lib64/python2.7/runpy.py\", line 72, in _run_code\n    exec code in run_globals\n  File \"/usr/lib/python2.7/site-packages/ipykernel/__main__.py\", line 3, in <module>\n    app.launch_new_instance()\n  File \"/usr/lib/python2.7/site-packages/traitlets/config/application.py\", line 589, in launch_instance\n    app.start()\n  File \"/usr/lib/python2.7/site-packages/ipykernel/kernelapp.py\", line 442, in start\n    ioloop.IOLoop.instance().start()\n  File \"/usr/lib64/python2.7/site-packages/zmq/eventloop/ioloop.py\", line 151, in start\n    super(ZMQIOLoop, self).start()\n  File \"/usr/lib64/python2.7/site-packages/tornado/ioloop.py\", line 883, in start\n    handler_func(fd_obj, events)\n  File \"/usr/lib64/python2.7/site-packages/tornado/stack_context.py\", line 275, in null_wrapper\n    return fn(*args, **kwargs)\n  File \"/usr/lib64/python2.7/site-packages/zmq/eventloop/zmqstream.py\", line 433, in _handle_events\n    self._handle_recv()\n  File \"/usr/lib64/python2.7/site-packages/zmq/eventloop/zmqstream.py\", line 465, in _handle_recv\n    self._run_callback(callback, msg)\n  File \"/usr/lib64/python2.7/site-packages/zmq/eventloop/zmqstream.py\", line 407, in _run_callback\n    callback(*args, **kwargs)\n  File \"/usr/lib64/python2.7/site-packages/tornado/stack_context.py\", line 275, in null_wrapper\n    return fn(*args, **kwargs)\n  File \"/usr/lib/python2.7/site-packages/ipykernel/kernelbase.py\", line 276, in dispatcher\n    return self.dispatch_shell(stream, msg)\n  File \"/usr/lib/python2.7/site-packages/ipykernel/kernelbase.py\", line 228, in dispatch_shell\n    handler(stream, idents, msg)\n  File \"/usr/lib/python2.7/site-packages/ipykernel/kernelbase.py\", line 391, in execute_request\n    user_expressions, allow_stdin)\n  File \"/usr/lib/python2.7/site-packages/ipykernel/ipkernel.py\", line 199, in do_execute\n    shell.run_cell(code, store_history=store_history, silent=silent)\n  File \"/usr/lib/python2.7/site-packages/IPython/core/interactiveshell.py\", line 2723, in run_cell\n    interactivity=interactivity, compiler=compiler, result=result)\n  File \"/usr/lib/python2.7/site-packages/IPython/core/interactiveshell.py\", line 2825, in run_ast_nodes\n    if self.run_code(code, result):\n  File \"/usr/lib/python2.7/site-packages/IPython/core/interactiveshell.py\", line 2885, in run_code\n    exec(code_obj, self.user_global_ns, self.user_ns)\n  File \"<ipython-input-1-312a594ea4c0>\", line 12, in <module>\n    predictor = TextPredictor('./model')\n  File \"predictors/cnn_predictor.py\", line 43, in __init__\n    self.predictor.load(model_path)\n  File \"binary_classification.py\", line 396, in load\n    self.build_graph(self.algo, self.trainer)\n  File \"binary_classification.py\", line 156, in build_graph\n    py_x = algo.forward(trainer)\n  File \"algos/cnn.py\", line 73, in forward\n    embedded_chars = tf.nn.embedding_lookup(W, trainer.X)\n  File \"/usr/lib/python2.7/site-packages/tensorflow/python/ops/embedding_ops.py\", line 86, in embedding_lookup\n    validate_indices=validate_indices)\n  File \"/usr/lib/python2.7/site-packages/tensorflow/python/ops/gen_array_ops.py\", line 423, in gather\n    validate_indices=validate_indices, name=name)\n  File \"/usr/lib/python2.7/site-packages/tensorflow/python/ops/op_def_library.py\", line 655, in apply_op\n    op_def=op_def)\n  File \"/usr/lib/python2.7/site-packages/tensorflow/python/framework/ops.py\", line 2040, in create_op\n    original_op=self._default_original_op, op_def=op_def)\n  File \"/usr/lib/python2.7/site-packages/tensorflow/python/framework/ops.py\", line 1087, in __init__\n    self._traceback = _extract_stack()\n"
     ]
    }
   ],
   "source": [
    "title = togbk('高一校一院一师一姐一姓一生一')\n",
    "content = togbk('高一校一院一师一姐一姓一生一活一Q一Q一群号：5234622 有一四一百一师一姐一妹一开一放一的一身一体一等一待一安一抚一群一内一还一有一上一仟一文一件。')\n",
    "adjusted_score, score = predictor.predict(title, content)\n",
    "print('adjusted_score:%f\\tscore:%f\\n'%(adjusted_score, score))"
   ]
  },
  {
   "cell_type": "code",
   "execution_count": null,
   "metadata": {
    "collapsed": true
   },
   "outputs": [],
   "source": []
  }
 ],
 "metadata": {
  "kernelspec": {
   "display_name": "Python 2",
   "language": "python",
   "name": "python2"
  },
  "language_info": {
   "codemirror_mode": {
    "name": "ipython",
    "version": 2
   },
   "file_extension": ".py",
   "mimetype": "text/x-python",
   "name": "python",
   "nbconvert_exporter": "python",
   "pygments_lexer": "ipython2",
   "version": "2.7.5"
  }
 },
 "nbformat": 4,
 "nbformat_minor": 0
}
